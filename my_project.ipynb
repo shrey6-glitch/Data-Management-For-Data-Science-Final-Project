{
 "cells": [
  {
   "cell_type": "markdown",
   "id": "25dc9d64-ad80-4ad6-975d-b569c17d914d",
   "metadata": {},
   "source": [
    "# Project Outline\n",
    "\n",
    "## Contents\n",
    " 1. Building the Database\n",
    " 2. Data Analysis\n",
    " 3. Machine Learning\n",
    "\n",
    "## Objective\n",
    "Study the impact congestion pricing would have in New York City"
   ]
  },
  {
   "cell_type": "markdown",
   "id": "3c759a31-3295-471f-b42d-605cd53b8804",
   "metadata": {},
   "source": [
    "### 1. Building the Database"
   ]
  },
  {
   "cell_type": "markdown",
   "id": "2bc65efc-d381-4334-9b41-9adcc86c7833",
   "metadata": {},
   "source": [
    "First, we will import all necessary libraries needed throughout this project"
   ]
  },
  {
   "cell_type": "code",
   "execution_count": 59,
   "id": "7c27d036-4804-4d75-943d-f94da3646a1c",
   "metadata": {},
   "outputs": [],
   "source": [
    "import pandas as pd\n",
    "import numpy as np\n",
    "import matplotlib.pyplot as plt\n",
    "import sqlite3\n",
    "from sklearn.model_selection import train_test_split\n",
    "from sklearn.metrics import mean_squared_error\n",
    "from sklearn.linear_model import LinearRegression"
   ]
  },
  {
   "cell_type": "markdown",
   "id": "deba6765-68b8-4716-90a5-c5f5295d4d8a",
   "metadata": {},
   "source": [
    "### Data Collection\n",
    "To build our database, we begin by collecting the data. As mentioned in the readme file, this project will study air pollution in NYC and the need for congestion pricing. Since the city's plan for congestion pricing will only be implemented in the central business district (CBD), we only need data from neighborhodos below 60th street in Manhattan. Luckily, NYC's OpenData website has the data we need, and the attached air quality file comes from a query of their data. Lets look at what's in the file. "
   ]
  },
  {
   "cell_type": "code",
   "execution_count": 60,
   "id": "a3d171c9-9a77-4238-a491-d88596d142d1",
   "metadata": {},
   "outputs": [
    {
     "name": "stdout",
     "output_type": "stream",
     "text": [
      "   Unique ID  Indicator ID                     Name Measure Measure Info  \\\n",
      "0     827047           386               Ozone (O3)    Mean          ppb   \n",
      "1     825843           375   Nitrogen dioxide (NO2)    Mean          ppb   \n",
      "2     823346           365  Fine particles (PM 2.5)    Mean       mcg/m3   \n",
      "3     825870           375   Nitrogen dioxide (NO2)    Mean          ppb   \n",
      "4     827055           386               Ozone (O3)    Mean          ppb   \n",
      "\n",
      "  Geo Type Name  Geo Join ID                       Geo Place Name  \\\n",
      "0            CD          102     Greenwich Village and Soho (CD2)   \n",
      "1            CD          103  Lower East Side and Chinatown (CD3)   \n",
      "2            CD          102     Greenwich Village and Soho (CD2)   \n",
      "3         UHF34       306308                      Chelsea-Village   \n",
      "4         UHF34       306308                      Chelsea-Village   \n",
      "\n",
      "   Time Period  Start_Date  Data Value  Message  \n",
      "0  Summer 2022  06/01/2022        30.2      NaN  \n",
      "1  Summer 2022  06/01/2022        13.6      NaN  \n",
      "2  Summer 2022  06/01/2022         8.3      NaN  \n",
      "3  Summer 2022  06/01/2022        18.5      NaN  \n",
      "4  Summer 2022  06/01/2022        29.3      NaN  \n"
     ]
    }
   ],
   "source": [
    "df = pd.read_csv('Air_Quality_20241208.csv')\n",
    "print(df.head())"
   ]
  },
  {
   "cell_type": "code",
   "execution_count": 61,
   "id": "7b805409-ae22-4c12-82bc-e419416d3bfd",
   "metadata": {},
   "outputs": [
    {
     "name": "stdout",
     "output_type": "stream",
     "text": [
      "Unique ID            0\n",
      "Indicator ID         0\n",
      "Name                 0\n",
      "Measure              0\n",
      "Measure Info         0\n",
      "Geo Type Name        0\n",
      "Geo Join ID          0\n",
      "Geo Place Name       0\n",
      "Time Period          0\n",
      "Start_Date           0\n",
      "Data Value           0\n",
      "Message           1598\n",
      "dtype: int64\n"
     ]
    }
   ],
   "source": [
    "print(df.isna().sum())"
   ]
  },
  {
   "cell_type": "code",
   "execution_count": 62,
   "id": "965ee408-3325-48ec-abfb-d2756183fd63",
   "metadata": {},
   "outputs": [
    {
     "name": "stdout",
     "output_type": "stream",
     "text": [
      "Unique ID           int64\n",
      "Indicator ID        int64\n",
      "Name               object\n",
      "Measure            object\n",
      "Measure Info       object\n",
      "Geo Type Name      object\n",
      "Geo Join ID         int64\n",
      "Geo Place Name     object\n",
      "Time Period        object\n",
      "Start_Date         object\n",
      "Data Value        float64\n",
      "Message           float64\n",
      "dtype: object\n"
     ]
    }
   ],
   "source": [
    "data_types = df.dtypes\n",
    "print(data_types)"
   ]
  },
  {
   "cell_type": "markdown",
   "id": "78d203ac-177f-40d7-a980-f2d3a63264ef",
   "metadata": {},
   "source": [
    "### Data Cleaning\n",
    "At first glance, it seems that this dataset is clean as only the 'Message' column has null values. Now lets dig deeper into what values are being stored to find irregularities we may need to correct like case sensitivity. We will use sets to manually check for nonsencical values in the columns that will matter for the analysis. \n"
   ]
  },
  {
   "cell_type": "code",
   "execution_count": 63,
   "id": "3e02afd6-6845-4188-ae22-c2f0dc68e08d",
   "metadata": {},
   "outputs": [
    {
     "name": "stdout",
     "output_type": "stream",
     "text": [
      "Pollutants: {'Annual vehicle miles traveled (cars)', 'Respiratory hospitalizations due to PM2.5 (age 20+)', 'Asthma hospitalizations due to Ozone', 'Cardiovascular hospitalizations due to PM2.5 (age 40+)', 'Outdoor Air Toxics - Formaldehyde', 'Ozone (O3)', 'Nitrogen dioxide (NO2)', 'Asthma emergency departments visits due to Ozone', 'Boiler Emissions- Total PM2.5 Emissions', 'Asthma emergency department visits due to PM2.5', 'Boiler Emissions- Total NOx Emissions', 'Fine particles (PM 2.5)', 'Boiler Emissions- Total SO2 Emissions', 'Deaths due to PM2.5', 'Outdoor Air Toxics - Benzene', 'Annual vehicle miles traveled', 'Cardiac and respiratory deaths due to Ozone', 'Annual vehicle miles traveled (trucks)'}\n",
      "\n",
      "Measures: {'Annual average concentration', 'Estimated annual rate (under age 18)', 'Million miles', 'Estimated annual rate (age 18+)', 'Number per km2', 'Estimated annual rate', 'Estimated annual rate (age 30+)', 'Mean'}\n",
      "\n",
      "Units: {'Âµg/m3', 'per 100,000 children', 'number', 'per 100,000', 'ppb', 'per 100,000 adults', 'per square mile', 'mcg/m3'}\n",
      "\n",
      "Time: {'01/01/2005', '06/01/2022', '06/01/2013', '06/01/2017', '12/01/2014', '06/01/2019', '06/01/2011', '12/01/2019', '01/01/2018', '01/01/2010', '01/01/2022', '12/01/2020', '12/01/2009', '06/01/2012', '12/01/2008', '06/01/2018', '06/01/2010', '06/01/2009', '12/01/2015', '01/01/2017', '01/01/2011', '12/01/2021', '01/01/2021', '01/01/2015', '01/01/2013', '01/01/2009', '12/01/2016', '01/02/2012', '01/01/2014', '01/01/2020', '06/01/2014', '06/01/2021', '01/01/2019', '12/01/2013', '12/01/2012', '06/01/2020', '12/31/2015', '12/01/2017', '06/01/2015', '12/01/2011', '12/01/2010', '12/01/2018', '06/01/2016'}\n"
     ]
    }
   ],
   "source": [
    "pollutants = set(df['Name'])\n",
    "measure = set(df['Measure'])\n",
    "units = set(df['Measure Info'])\n",
    "time = set(df['Start_Date'])\n",
    "\n",
    "print(f'Pollutants: {pollutants}\\n\\nMeasures: {measure}\\n\\nUnits: {units}\\n\\nTime: {time}')"
   ]
  },
  {
   "cell_type": "markdown",
   "id": "6903906e-2868-4b6a-98f7-c89e75797771",
   "metadata": {},
   "source": [
    "### Building the Database\n",
    "The output shows us that there are no bad values in the columsn we need, and also gives more information about what data we have. Given this information, let's filter our data to build our database and so we can draw relevant analysis. The three factors we have the most information about, and will be focusing on, are Ozone pollution, Fine Particles aka Particulate Matter (PM), and vehicle miles traveled. "
   ]
  },
  {
   "cell_type": "code",
   "execution_count": 64,
   "id": "f37edf8a-cb2b-4dd1-b2df-1aaafc32c76e",
   "metadata": {},
   "outputs": [
    {
     "name": "stdout",
     "output_type": "stream",
     "text": [
      "     Unique ID                Geo Place Name  Geo Join ID  Year  Ozone (O3)  \\\n",
      "0            1             Chelsea - Clinton          306  2005         NaN   \n",
      "1            2             Chelsea - Clinton          306  2008         NaN   \n",
      "2            3             Chelsea - Clinton          306  2009        21.3   \n",
      "3            4             Chelsea - Clinton          306  2010        25.6   \n",
      "4            5             Chelsea - Clinton          306  2011        24.2   \n",
      "..         ...                           ...          ...   ...         ...   \n",
      "185        186  Union Square-Lower Manhattan       309310  2018        26.5   \n",
      "186        187  Union Square-Lower Manhattan       309310  2019        25.4   \n",
      "187        188  Union Square-Lower Manhattan       309310  2020        28.5   \n",
      "188        189  Union Square-Lower Manhattan       309310  2021        28.2   \n",
      "189        190  Union Square-Lower Manhattan       309310  2022        30.9   \n",
      "\n",
      "     Cardiac and respiratory deaths due to Ozone  \\\n",
      "0                                            4.0   \n",
      "1                                            NaN   \n",
      "2                                            3.4   \n",
      "3                                            NaN   \n",
      "4                                            NaN   \n",
      "..                                           ...   \n",
      "185                                          NaN   \n",
      "186                                          NaN   \n",
      "187                                          NaN   \n",
      "188                                          NaN   \n",
      "189                                          NaN   \n",
      "\n",
      "     Asthma emergency departments visits due to Ozone  \\\n",
      "0                                                28.6   \n",
      "1                                                 NaN   \n",
      "2                                                91.6   \n",
      "3                                                 NaN   \n",
      "4                                                 NaN   \n",
      "..                                                ...   \n",
      "185                                               NaN   \n",
      "186                                               NaN   \n",
      "187                                               NaN   \n",
      "188                                               NaN   \n",
      "189                                               NaN   \n",
      "\n",
      "     Fine particles (PM 2.5)  Deaths due to PM2.5  \\\n",
      "0                        NaN                 57.5   \n",
      "1                       16.7                  NaN   \n",
      "2                       13.2                 39.7   \n",
      "3                       13.3                  NaN   \n",
      "4                       12.4                  NaN   \n",
      "..                       ...                  ...   \n",
      "185                      9.8                  NaN   \n",
      "186                     10.2                  NaN   \n",
      "187                      7.8                  NaN   \n",
      "188                      8.3                  NaN   \n",
      "189                      7.5                  NaN   \n",
      "\n",
      "     Asthma emergency department visits due to PM2.5  \\\n",
      "0                                               39.1   \n",
      "1                                                NaN   \n",
      "2                                               25.3   \n",
      "3                                                NaN   \n",
      "4                                                NaN   \n",
      "..                                               ...   \n",
      "185                                              NaN   \n",
      "186                                              NaN   \n",
      "187                                              NaN   \n",
      "188                                              NaN   \n",
      "189                                              NaN   \n",
      "\n",
      "     Annual vehicle miles traveled  Annual vehicle miles traveled (trucks)  \\\n",
      "0                            126.0                                     9.1   \n",
      "1                              NaN                                     NaN   \n",
      "2                              NaN                                     NaN   \n",
      "3                            107.2                                     8.5   \n",
      "4                              NaN                                     NaN   \n",
      "..                             ...                                     ...   \n",
      "185                            NaN                                     NaN   \n",
      "186                            NaN                                     NaN   \n",
      "187                            NaN                                     NaN   \n",
      "188                            NaN                                     NaN   \n",
      "189                            NaN                                     NaN   \n",
      "\n",
      "     Annual vehicle miles traveled (cars)  \n",
      "0                                   114.9  \n",
      "1                                     NaN  \n",
      "2                                     NaN  \n",
      "3                                    91.8  \n",
      "4                                     NaN  \n",
      "..                                    ...  \n",
      "185                                   NaN  \n",
      "186                                   NaN  \n",
      "187                                   NaN  \n",
      "188                                   NaN  \n",
      "189                                   NaN  \n",
      "\n",
      "[190 rows x 13 columns]\n"
     ]
    }
   ],
   "source": [
    "relevant_indicators = [\n",
    "    'Ozone (O3)', 'Cardiac and respiratory deaths due to Ozone', \n",
    "    'Asthma emergency departments visits due to Ozone', 'Fine particles (PM 2.5)', \n",
    "    'Deaths due to PM2.5', 'Asthma emergency department visits due to PM2.5', \n",
    "    'Annual vehicle miles traveled', 'Annual vehicle miles traveled (trucks)', \n",
    "    'Annual vehicle miles traveled (cars)'\n",
    "]\n",
    "\n",
    "# Extract year from Start_Date\n",
    "df['Year'] = pd.to_datetime(df['Start_Date']).dt.year\n",
    "\n",
    "# Filter data to include only relevant indicators\n",
    "filtered_df = df[df['Name'].isin(relevant_indicators)]\n",
    "\n",
    "# Pivot the DataFrame\n",
    "pivot_df = filtered_df.pivot_table(\n",
    "    index=['Geo Place Name', 'Geo Join ID', 'Year'],\n",
    "    columns='Name',\n",
    "    values='Data Value',\n",
    "    aggfunc='first'  # Use 'first' in case of duplicates\n",
    ").reset_index()\n",
    "\n",
    "# Reorder columns and add a unique ID\n",
    "pivot_df = pivot_df[['Geo Place Name', 'Geo Join ID', 'Year'] + relevant_indicators]\n",
    "pivot_df.insert(0, 'Unique ID', range(1, len(pivot_df) + 1))\n",
    "\n",
    "# Create SQLite database and save the DataFrame\n",
    "connection = sqlite3.connect('pollution_data.db')\n",
    "pivot_df.to_sql('pollution_data', connection, if_exists='replace', index=False)\n",
    "\n",
    "# Display the database\n",
    "query = \"SELECT * FROM pollution_data\"\n",
    "data = pd.read_sql_query(query, connection)\n",
    "print(data)"
   ]
  },
  {
   "cell_type": "markdown",
   "id": "5cbce496-ac93-443f-b94f-d3ad26ff453c",
   "metadata": {},
   "source": [
    "### 2. Data Analysis and Visualization\n",
    "Now that we have completed our database, let's query it and create graphs to study air pollution in Midtown and Lower Manhattan. "
   ]
  },
  {
   "cell_type": "code",
   "execution_count": null,
   "id": "74468403-1a91-4b16-a513-f36965eaeb13",
   "metadata": {},
   "outputs": [],
   "source": [
    "# Query to get relevant data\n",
    "query = \"\"\"\n",
    "SELECT \n",
    "    \"Ozone (O3)\" AS ozone_ppb, \n",
    "    \"Fine particles (PM 2.5)\" AS fine_pm25,\n",
    "    \"Cardiac and respiratory deaths due to Ozone\" AS ozone_deaths, \n",
    "    \"Deaths due to PM2.5\" AS pm25_deaths\n",
    "FROM pollution_data\n",
    "WHERE \"Ozone (O3)\" IS NOT NULL \n",
    "  AND \"Fine particles (PM 2.5)\" IS NOT NULL\n",
    "  AND \"Cardiac and respiratory deaths due to Ozone\" IS NOT NULL\n",
    "  AND \"Deaths due to PM2.5\" IS NOT NULL;\n",
    "\"\"\"\n",
    "\n",
    "# Load data into a Pandas DataFrame\n",
    "df = pd.read_sql_query(query, connection)\n",
    "\n",
    "# Visualize relationships using matplotlib\n",
    "# Create a figure with subplots\n",
    "plt.figure(figsize=(15, 5))\n",
    "\n",
    "# Plot Ozone Concentration vs. Deaths due to Ozone\n",
    "plt.subplot(1, 2, 1)\n",
    "plt.scatter(df['ozone_ppb'], df['ozone_deaths'], color='red')\n",
    "plt.title('Ozone Concentration vs. Deaths due to Ozone')\n",
    "plt.xlabel('Ozone Concentration (ppb)')\n",
    "plt.ylabel('Deaths due to Ozone (per 100,000)')\n",
    "\n",
    "# Plot Fine Particles PM 2.5 vs. Deaths due to PM2.5\n",
    "plt.subplot(1, 2, 2)\n",
    "plt.scatter(df['fine_pm25'], df['pm25_deaths'], color='orange')\n",
    "plt.title('PM2.5 Concentration vs. Deaths due to PM2.5')\n",
    "plt.xlabel('PM2.5 (mcg/m3)')\n",
    "plt.ylabel('Deaths due to PM2.5 (per 100,000)')\n",
    "\n",
    "# Improve layout and show the plot\n",
    "plt.tight_layout()\n",
    "plt.show()\n"
   ]
  },
  {
   "cell_type": "markdown",
   "id": "c2719f08-d6ec-446e-aa93-7a64fc84dda2",
   "metadata": {},
   "source": [
    "When reading the scatterplot for fine particles (PM2.5), we see that there is a general positive coorelation between increased fine particle concentration, but there is one outlier that significantly deviates. Upon further analysis, this point represents the Lower East Side neighborhood, which has a large concentration of public housing. These apartments are located close to FDR Dr (a major 6 lane freeway in Manhattan) and the Williamsburg Bridge (which carries a total of 8 lanes). The economically disadvantaged people that live in public housing often lack adequate healthcare, which can also explain the strong deviation from the norm in deaths due to particulate matter.\n",
    "\n",
    "When reading the scatterplot for ozone, there are two points that deviate from the pattern. One of the lower points represents the Greenwich Village-SoHo area. These two are some of the most wealthiest neighborhoods in the city, and neither contain any freeways or bridges. It is most plausible that the socioeconomic status of the residents of this area, combined with its urban planning is what has lead to a  noticeably lower death rate from ozone. The residents of these neighborhoods were able to successfully lobby against freeway expansion when the Interstate Highways System was being built, which shows the intersectionality between socioeconomic status and health.\n"
   ]
  },
  {
   "cell_type": "code",
   "execution_count": null,
   "id": "3a72b2fd-46b4-478e-abb9-1420ef41f929",
   "metadata": {},
   "outputs": [],
   "source": [
    "# Query data to get relevant columns\n",
    "query = \"\"\"\n",
    "SELECT \n",
    "    \"Year\" AS Year,\n",
    "    \"Ozone (O3)\" AS ozone,\n",
    "    \"Fine particles (PM 2.5)\" AS pm25\n",
    "FROM pollution_data\n",
    "WHERE \"Ozone (O3)\" IS NOT NULL \n",
    "  AND \"Fine particles (PM 2.5)\" IS NOT NULL\n",
    "  AND \"Year\" IS NOT NULL;\n",
    "\"\"\"\n",
    "\n",
    "# Load data into a Pandas DataFrame\n",
    "df = pd.read_sql_query(query, connection)\n",
    "\n",
    "# Visualize trends with a scatter plot using matplotlib\n",
    "plt.figure(figsize=(12, 6))\n",
    "\n",
    "# Scatter plot for Ozone concentrations\n",
    "plt.scatter(df['Year'], df['ozone'], color='green', alpha=0.7, label='Ozone (ppb)', marker='o')\n",
    "\n",
    "# Scatter plot for PM2.5 concentrations\n",
    "plt.scatter(df['Year'], df['pm25'], color='blue', alpha=0.7, label='PM2.5 (mcg/m3)', marker='o')\n",
    "\n",
    "# Plot details\n",
    "plt.title('Ozone and Fine Particles Concentrations Over Time')\n",
    "plt.xlabel('Year')\n",
    "plt.ylabel('Concentration')\n",
    "plt.legend()\n",
    "plt.grid(True)\n",
    "\n",
    "# Show the plot\n",
    "plt.tight_layout()\n",
    "plt.show()"
   ]
  },
  {
   "cell_type": "markdown",
   "id": "65a955b2-535d-4c57-88cf-5fa9fde26d75",
   "metadata": {},
   "source": [
    "This data shows us a few interesting trends. With ozone pollution, we see that it has generally increased over time with the least polluted neighborhoods in 2022 having more ozone pollution than the most ozone polluted in 2009. We also see a general decrease in the stratification of ozone pollution data by year, signifying that neighborhoods in the CBD, even more residential ones, are as congested as ever. \n",
    "\n",
    "But wait... how has particulate matter pollution decreased? To answer this we have to dig into the science of these chemicals. Ozone pollution happens when various diffirent pollutants react with sunlight, particularly under hotter weather conditions, and create ozone at the ground level. PM2.5 are just very tiny particles that are a byproduct of burning gasoline/disel. The EPA has been tightening their regulations when it comes to vehicle emissions, particularly when it comes to particulate matter. Since ozone production is a secondary product, it is much harder to regulate as it isn't directly emitted by vehicles, not to mention that global warming is creating more favorable conditions for ozone pollution. "
   ]
  },
  {
   "cell_type": "code",
   "execution_count": 67,
   "id": "c2d5ce5b-d4f4-484b-9948-f58cd966b3c2",
   "metadata": {},
   "outputs": [
    {
     "data": {
      "image/png": "[encoded data removed]",
      "text/plain": [
       "<Figure size 1200x600 with 1 Axes>"
      ]
     },
     "metadata": {},
     "output_type": "display_data"
    }
   ],
   "source": [
    "# Query the data with aggregation\n",
    "query = \"\"\"\n",
    "SELECT \n",
    "    \"Year\" AS Year,\n",
    "    SUM(\"Annual vehicle miles traveled (cars)\") AS car_miles,\n",
    "    SUM(\"Annual vehicle miles traveled (trucks)\") AS truck_miles\n",
    "FROM pollution_data\n",
    "WHERE \"Annual vehicle miles traveled (cars)\" IS NOT NULL\n",
    "  AND \"Annual vehicle miles traveled (trucks)\" IS NOT NULL\n",
    "  AND \"Year\" IS NOT NULL\n",
    "GROUP BY \"Year\"\n",
    "ORDER BY Year;\n",
    "\"\"\"\n",
    "\n",
    "# Load data into a Pandas DataFrame\n",
    "df = pd.read_sql_query(query, connection)\n",
    "\n",
    "# Visualize with a grouped bar chart\n",
    "# Set the positions and width for bars\n",
    "years = df['Year']\n",
    "car_miles = df['car_miles']\n",
    "truck_miles = df['truck_miles']\n",
    "x = np.arange(len(years))  # Positions for groups\n",
    "width = 0.35  # Width of bars\n",
    "\n",
    "# Create a bar chart\n",
    "plt.figure(figsize=(12, 6))\n",
    "\n",
    "# Plot Car Miles\n",
    "plt.bar(x - width/2, car_miles, width, label='Car Miles Traveled (Millions)', color='purple')\n",
    "\n",
    "# Plot Truck Miles\n",
    "plt.bar(x + width/2, truck_miles, width, label='Truck Miles Traveled (Millions)', color='violet')\n",
    "\n",
    "# Add labels, title, and legend\n",
    "plt.xlabel('Year')\n",
    "plt.ylabel('Miles Traveled (Millions)')\n",
    "plt.title('Annual Vehicle Miles Traveled by Cars and Trucks')\n",
    "plt.xticks(x, years, rotation=45)  # Use years as x-axis labels\n",
    "plt.legend()\n",
    "\n",
    "# Displaying the histogram\n",
    "plt.grid(axis='y', linestyle='-', alpha=0.7)\n",
    "plt.tight_layout()\n",
    "plt.show()"
   ]
  },
  {
   "cell_type": "markdown",
   "id": "7d273654-97a5-4500-81fd-4ed1a0dc0692",
   "metadata": {},
   "source": [
    "As we can see, there is no significant change in the vehicle miles traveled in the CBD except for the dip in 2010 for car miles traveled. This shows that the roads in this part of the city have reached peak capacity, and they obviously cannot be widened given the state of development in the area. But what does this mean for New Yorkers? When roads have reacher their 'maximum capacity' per se, it makes it difficult for emergency response vehicles to navigate through traffic as there is little room for all the other vehicles to move over. Such congested roads also decrease the quality of life for residents from the constant pollution, honking, and other noise. \n",
    "\n",
    "Singapore was the first city/country to implement congestion pricing and many European cities have followed suit. Congestion pricing is used as a tool to reduce traffic in CBDs by charging entering vehicles a fee (toll) to access the roads. This has been a proven method to create safer and quieter streets, increase sustainable funding for public transit as there will always be a demand to drive in the CBD, and secondary effects like ease of travel for more eco friendly options such as buses and bikes.  "
   ]
  },
  {
   "cell_type": "markdown",
   "id": "0fc0f56e-1539-49ad-ac5c-5f2f78bb99c9",
   "metadata": {},
   "source": [
    "### 3. Machine Learning\n",
    "For this part, we will use linear regression to predict the impact of congestion pricing. According to NYC's congestion pricing plan, the city expects to see a 5% reduction in vehicle miles traveled in the CBD if the current plan is implemented. We will be predicting the impact a 5% and 10% reduction in vehicle miles traveled will have on deaths from ozone and PM2.5. Then we will graph the results to visualize the impact. "
   ]
  },
  {
   "cell_type": "code",
   "execution_count": 56,
   "id": "8e4564fc-4307-4282-bbe6-fdaa3984f92d",
   "metadata": {},
   "outputs": [
    {
     "name": "stdout",
     "output_type": "stream",
     "text": [
      "   vehicle_miles  deaths_ozone  deaths_pm25\n",
      "0          126.0           4.0         57.5\n",
      "1          185.6           3.2         52.7\n",
      "2          132.6           3.1         45.4\n",
      "3           95.4           3.8         59.5\n",
      "4          123.8           3.9         66.9\n",
      "Ozone Model - MSE: 0.0114\n",
      "PM2.5 Model - MSE: 79.3095\n"
     ]
    }
   ],
   "source": [
    "query = \"\"\"\n",
    "SELECT \n",
    "    \"Annual vehicle miles traveled\" AS vehicle_miles,\n",
    "    \"Cardiac and respiratory deaths due to Ozone\" AS deaths_ozone,\n",
    "    \"Deaths due to PM2.5\" AS deaths_pm25\n",
    "FROM pollution_data\n",
    "WHERE \"Annual vehicle miles traveled\" IS NOT NULL\n",
    "  AND \"Cardiac and respiratory deaths due to Ozone\" IS NOT NULL\n",
    "  AND \"Deaths due to PM2.5\" IS NOT NULL;\n",
    "\"\"\"\n",
    "\n",
    "df = pd.read_sql_query(query, connection)\n",
    "\n",
    "# Check the data\n",
    "print(df.head())\n",
    "\n",
    "# Features (X) and targets (y)\n",
    "X = df[['vehicle_miles']]\n",
    "y_ozone = df['deaths_ozone']\n",
    "y_pm25 = df['deaths_pm25']\n",
    "\n",
    "# Split data into training and testing sets\n",
    "X_train, X_test, y_train_ozone, y_test_ozone = train_test_split(X, y_ozone, test_size=0.2, random_state=42)\n",
    "_, _, y_train_pm25, y_test_pm25 = train_test_split(X, y_pm25, test_size=0.2, random_state=42)\n",
    "\n",
    "# Train models\n",
    "model_ozone = LinearRegression()\n",
    "model_pm25 = LinearRegression()\n",
    "\n",
    "model_ozone.fit(X_train, y_train_ozone)\n",
    "model_pm25.fit(X_train, y_train_pm25)\n",
    "\n",
    "# Predictions for the test set\n",
    "y_pred_ozone = model_ozone.predict(X_test)\n",
    "y_pred_pm25 = model_pm25.predict(X_test)\n",
    "\n",
    "# Simulate reductions\n",
    "reductions = [0.05, 0.10]\n",
    "predictions = {}\n",
    "\n",
    "for reduction in reductions:\n",
    "    X_reduced = X * (1 - reduction)  # Reduce vehicle miles\n",
    "    predictions[f\"{int(reduction * 100)}% reduction\"] = {\n",
    "        'deaths_ozone': model_ozone.predict(X_reduced),\n",
    "        'deaths_pm25': model_pm25.predict(X_reduced),\n",
    "    }\n",
    "\n",
    "# Calculate metrics\n",
    "mse_ozone = mean_squared_error(y_test_ozone, y_pred_ozone)\n",
    "mse_pm25 = mean_squared_error(y_test_pm25, y_pred_pm25)\n",
    "\n",
    "print(f\"Ozone Model - MSE: {mse_ozone:.4f}\")\n",
    "print(f\"PM2.5 Model - MSE: {mse_pm25:.4f}\")\n"
   ]
  },
  {
   "cell_type": "code",
   "execution_count": null,
   "id": "ee580fa8-1e6e-4e25-a263-397cc5a46567",
   "metadata": {},
   "outputs": [],
   "source": [
    "# Visualize Ozone Deaths\n",
    "plt.figure(figsize=(10, 6))\n",
    "years = list(range(len(df)))  # Create a mock timeline for simplicity\n",
    "\n",
    "for reduction, values in predictions.items():\n",
    "    plt.plot(\n",
    "        years, values['deaths_ozone'],\n",
    "        label=f'Ozone Deaths ({reduction})', linestyle='--'\n",
    "    )\n",
    "\n",
    "# Actual data for reference\n",
    "plt.plot(years, y_ozone.values, label='Actual Ozone Deaths', color='blue')\n",
    "\n",
    "# Add labels and legend\n",
    "plt.xlabel('Year')\n",
    "plt.ylabel('Deaths per 100,000')\n",
    "plt.title('Predicted Ozone Deaths under Congestion Pricing Reductions')\n",
    "plt.legend()\n",
    "plt.grid(True)\n",
    "plt.tight_layout()\n",
    "plt.show()\n",
    "\n",
    "# Visualize PM2.5 Deaths\n",
    "plt.figure(figsize=(10, 6))\n",
    "\n",
    "for reduction, values in predictions.items():\n",
    "    plt.plot(\n",
    "        years, values['deaths_pm25'],\n",
    "        label=f'PM2.5 Deaths ({reduction})', linestyle=':'\n",
    "    )\n",
    "\n",
    "# Actual data for reference\n",
    "plt.plot(years, y_pm25.values, label='Actual PM2.5 Deaths', color='orange')\n",
    "\n",
    "# Add labels and legend\n",
    "plt.xlabel('Year')\n",
    "plt.ylabel('Deaths per 100,000')\n",
    "plt.title('Predicted PM2.5 Deaths under Congestion Pricing Reductions')\n",
    "plt.legend()\n",
    "plt.grid(True)\n",
    "plt.tight_layout()\n",
    "plt.show()\n"
   ]
  },
  {
   "cell_type": "markdown",
   "id": "e1231e00-b5e6-436a-8af5-3e80b21c4c20",
   "metadata": {},
   "source": [
    "From the graph that shows the prediction for the impact congestion pricing will have, we can see that at the end of the 4 year period, there will be a reduced death rate when compared to if no congestion pricing was implemented. However, the difference between death rates when compared to the beginning of the four year period is minimal. This means that while congestion pricing will have an overall positive impact, the toll is not a strong enough deterrent to reduce ozone pollution levels. It is important to note that congestion pricing would generate about $490M per year, which would contribute significantly to public transportation and indirectly reduce vehicle miles traveled, which this model does not take into account. The deaths from PM2.5 also shows a similar outcome. "
   ]
  }
 ],
 "metadata": {
  "kernelspec": {
   "display_name": "Python 3 (ipykernel)",
   "language": "python",
   "name": "python3"
  },
  "language_info": {
   "codemirror_mode": {
    "name": "ipython",
    "version": 3
   },
   "file_extension": ".py",
   "mimetype": "text/x-python",
   "name": "python",
   "nbconvert_exporter": "python",
   "pygments_lexer": "ipython3",
   "version": "3.12.2"
  }
 },
 "nbformat": 4,
 "nbformat_minor": 5
}
